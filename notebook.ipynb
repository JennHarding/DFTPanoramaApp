{
 "metadata": {
  "language_info": {
   "codemirror_mode": {
    "name": "ipython",
    "version": 3
   },
   "file_extension": ".py",
   "mimetype": "text/x-python",
   "name": "python",
   "nbconvert_exporter": "python",
   "pygments_lexer": "ipython3",
   "version": 3
  },
  "orig_nbformat": 2,
  "kernelspec": {
   "name": "python_defaultSpec_1595152859743",
   "display_name": "Python 3.8.2 64-bit ('.venv': venv)"
  }
 },
 "nbformat": 4,
 "nbformat_minor": 2,
 "cells": [
  {
   "cell_type": "code",
   "execution_count": null,
   "metadata": {},
   "outputs": [],
   "source": [
    "import pandas as pd"
   ]
  },
  {
   "cell_type": "code",
   "execution_count": 82,
   "metadata": {},
   "outputs": [],
   "source": [
    "def find_phase_index_ratings(df, edo):\n",
    "    working_dict = {'components' : [],\n",
    "    'rating' : []}\n",
    "    for x in range(1, edo//2 +1):\n",
    "        for y in range(x+1, edo//2 + 1):\n",
    "            for z in range(1, edo//2 + 1):\n",
    "                if z != x and z != y:\n",
    "                    working_dict['components'].append(str([x, y, z]))\n",
    "                    phase_index_list = (abs(df[f'f{x} Phase'] + df[f'f{y} Phase'] - df[f'f{z} Phase'])).values.tolist()\n",
    "                    norm = [fix_index(a) for a in phase_index_list]\n",
    "                    working_dict['rating'].append(sum(norm) / len(norm))\n",
    "    return working_dict"
   ]
  },
  {
   "cell_type": "code",
   "execution_count": 83,
   "metadata": {},
   "outputs": [],
   "source": [
    "haba = pd.read_csv(\"C:\\\\Users\\\\jennd\\\\Desktop\\\\haba_master_df.csv\")"
   ]
  },
  {
   "cell_type": "code",
   "execution_count": 84,
   "metadata": {},
   "outputs": [
    {
     "output_type": "execute_result",
     "data": {
      "text/plain": "   Unnamed: 0  Window Number  \\\n0           0              0   \n1           1              1   \n2           2              2   \n3           3              3   \n4           4              4   \n\n                                      Weighted Array  \\\n0  [1.58 1.   1.58 2.   0.   1.   1.   1.   3.   ...   \n1  [1.58 1.   1.58 2.   1.   1.   1.   1.   3.   ...   \n2  [2.   1.   1.58 2.   1.   0.   1.   1.   3.17 ...   \n3  [2.32 1.   1.   2.   1.   0.   1.   1.   3.17 ...   \n4  [2.32 1.   1.58 2.   1.   0.   1.   1.   3.17 ...   \n\n                                      Original Array Measure Range  f1 Phase  \\\n0  [2. 1. 2. 3. 0. 1. 1. 1. 7. 1. 0. 2. 0. 1. 0. ...           1–5       -88   \n1  [2. 1. 2. 3. 1. 1. 1. 1. 7. 1. 0. 2. 0. 1. 0. ...           1–5       -74   \n2  [3. 1. 2. 3. 1. 0. 1. 1. 8. 1. 0. 3. 0. 1. 0. ...           1–5       -76   \n3  [4. 1. 1. 3. 1. 0. 1. 1. 8. 1. 0. 3. 0. 1. 0. ...           1–5       -84   \n4  [4. 1. 2. 3. 1. 0. 1. 1. 8. 1. 1. 3. 0. 1. 0. ...           2–6       -88   \n\n   f2 Phase  f3 Phase  f4 Phase  f5 Phase  ...  f3 Magnitude  f4 Magnitude  \\\n0       -83        -9      -117       -99  ...          6.25          2.92   \n1       -87       -11      -131        78  ...          5.27          1.83   \n2       -68       -21      -120       134  ...          7.39          1.34   \n3       -67       -14      -126       102  ...          7.71          0.81   \n4       -33       -26      -148        77  ...          7.86          1.24   \n\n   f5 Magnitude  f6 Magnitude  f7 Magnitude  f8 Magnitude  f9 Magnitude  \\\n0          0.33          7.01          4.78          1.88          7.00   \n1          1.26          7.62          4.07          1.83          6.00   \n2          2.08          8.32          1.98          2.17          5.67   \n3          1.53          9.25          1.19          1.37          5.79   \n4          1.09          7.97          1.23          1.51          5.08   \n\n   f10 Magnitude  f11 Magnitude  f12 Magnitude  \n0           2.73           1.72           4.58  \n1           3.38           2.30           3.58  \n2           3.41           4.57           3.42  \n3           3.39           4.62           4.09  \n4           2.65           5.64           2.92  \n\n[5 rows x 41 columns]",
      "text/html": "<div>\n<style scoped>\n    .dataframe tbody tr th:only-of-type {\n        vertical-align: middle;\n    }\n\n    .dataframe tbody tr th {\n        vertical-align: top;\n    }\n\n    .dataframe thead th {\n        text-align: right;\n    }\n</style>\n<table border=\"1\" class=\"dataframe\">\n  <thead>\n    <tr style=\"text-align: right;\">\n      <th></th>\n      <th>Unnamed: 0</th>\n      <th>Window Number</th>\n      <th>Weighted Array</th>\n      <th>Original Array</th>\n      <th>Measure Range</th>\n      <th>f1 Phase</th>\n      <th>f2 Phase</th>\n      <th>f3 Phase</th>\n      <th>f4 Phase</th>\n      <th>f5 Phase</th>\n      <th>...</th>\n      <th>f3 Magnitude</th>\n      <th>f4 Magnitude</th>\n      <th>f5 Magnitude</th>\n      <th>f6 Magnitude</th>\n      <th>f7 Magnitude</th>\n      <th>f8 Magnitude</th>\n      <th>f9 Magnitude</th>\n      <th>f10 Magnitude</th>\n      <th>f11 Magnitude</th>\n      <th>f12 Magnitude</th>\n    </tr>\n  </thead>\n  <tbody>\n    <tr>\n      <th>0</th>\n      <td>0</td>\n      <td>0</td>\n      <td>[1.58 1.   1.58 2.   0.   1.   1.   1.   3.   ...</td>\n      <td>[2. 1. 2. 3. 0. 1. 1. 1. 7. 1. 0. 2. 0. 1. 0. ...</td>\n      <td>1–5</td>\n      <td>-88</td>\n      <td>-83</td>\n      <td>-9</td>\n      <td>-117</td>\n      <td>-99</td>\n      <td>...</td>\n      <td>6.25</td>\n      <td>2.92</td>\n      <td>0.33</td>\n      <td>7.01</td>\n      <td>4.78</td>\n      <td>1.88</td>\n      <td>7.00</td>\n      <td>2.73</td>\n      <td>1.72</td>\n      <td>4.58</td>\n    </tr>\n    <tr>\n      <th>1</th>\n      <td>1</td>\n      <td>1</td>\n      <td>[1.58 1.   1.58 2.   1.   1.   1.   1.   3.   ...</td>\n      <td>[2. 1. 2. 3. 1. 1. 1. 1. 7. 1. 0. 2. 0. 1. 0. ...</td>\n      <td>1–5</td>\n      <td>-74</td>\n      <td>-87</td>\n      <td>-11</td>\n      <td>-131</td>\n      <td>78</td>\n      <td>...</td>\n      <td>5.27</td>\n      <td>1.83</td>\n      <td>1.26</td>\n      <td>7.62</td>\n      <td>4.07</td>\n      <td>1.83</td>\n      <td>6.00</td>\n      <td>3.38</td>\n      <td>2.30</td>\n      <td>3.58</td>\n    </tr>\n    <tr>\n      <th>2</th>\n      <td>2</td>\n      <td>2</td>\n      <td>[2.   1.   1.58 2.   1.   0.   1.   1.   3.17 ...</td>\n      <td>[3. 1. 2. 3. 1. 0. 1. 1. 8. 1. 0. 3. 0. 1. 0. ...</td>\n      <td>1–5</td>\n      <td>-76</td>\n      <td>-68</td>\n      <td>-21</td>\n      <td>-120</td>\n      <td>134</td>\n      <td>...</td>\n      <td>7.39</td>\n      <td>1.34</td>\n      <td>2.08</td>\n      <td>8.32</td>\n      <td>1.98</td>\n      <td>2.17</td>\n      <td>5.67</td>\n      <td>3.41</td>\n      <td>4.57</td>\n      <td>3.42</td>\n    </tr>\n    <tr>\n      <th>3</th>\n      <td>3</td>\n      <td>3</td>\n      <td>[2.32 1.   1.   2.   1.   0.   1.   1.   3.17 ...</td>\n      <td>[4. 1. 1. 3. 1. 0. 1. 1. 8. 1. 0. 3. 0. 1. 0. ...</td>\n      <td>1–5</td>\n      <td>-84</td>\n      <td>-67</td>\n      <td>-14</td>\n      <td>-126</td>\n      <td>102</td>\n      <td>...</td>\n      <td>7.71</td>\n      <td>0.81</td>\n      <td>1.53</td>\n      <td>9.25</td>\n      <td>1.19</td>\n      <td>1.37</td>\n      <td>5.79</td>\n      <td>3.39</td>\n      <td>4.62</td>\n      <td>4.09</td>\n    </tr>\n    <tr>\n      <th>4</th>\n      <td>4</td>\n      <td>4</td>\n      <td>[2.32 1.   1.58 2.   1.   0.   1.   1.   3.17 ...</td>\n      <td>[4. 1. 2. 3. 1. 0. 1. 1. 8. 1. 1. 3. 0. 1. 0. ...</td>\n      <td>2–6</td>\n      <td>-88</td>\n      <td>-33</td>\n      <td>-26</td>\n      <td>-148</td>\n      <td>77</td>\n      <td>...</td>\n      <td>7.86</td>\n      <td>1.24</td>\n      <td>1.09</td>\n      <td>7.97</td>\n      <td>1.23</td>\n      <td>1.51</td>\n      <td>5.08</td>\n      <td>2.65</td>\n      <td>5.64</td>\n      <td>2.92</td>\n    </tr>\n  </tbody>\n</table>\n<p>5 rows × 41 columns</p>\n</div>"
     },
     "metadata": {},
     "execution_count": 84
    }
   ],
   "source": [
    "haba.head()"
   ]
  },
  {
   "cell_type": "code",
   "execution_count": 85,
   "metadata": {},
   "outputs": [
    {
     "output_type": "execute_result",
     "data": {
      "text/plain": "       components     rating\n0       [1, 2, 3]  90.979310\n1       [1, 2, 4]  95.337931\n2       [1, 2, 5]  91.452217\n3       [1, 2, 6]  87.969458\n4       [1, 2, 7]  92.494581\n..            ...        ...\n655   [11, 12, 6]  86.450246\n656   [11, 12, 7]  95.503448\n657   [11, 12, 8]  92.512315\n658   [11, 12, 9]  86.511330\n659  [11, 12, 10]  85.226601\n\n[660 rows x 2 columns]",
      "text/html": "<div>\n<style scoped>\n    .dataframe tbody tr th:only-of-type {\n        vertical-align: middle;\n    }\n\n    .dataframe tbody tr th {\n        vertical-align: top;\n    }\n\n    .dataframe thead th {\n        text-align: right;\n    }\n</style>\n<table border=\"1\" class=\"dataframe\">\n  <thead>\n    <tr style=\"text-align: right;\">\n      <th></th>\n      <th>components</th>\n      <th>rating</th>\n    </tr>\n  </thead>\n  <tbody>\n    <tr>\n      <th>0</th>\n      <td>[1, 2, 3]</td>\n      <td>90.979310</td>\n    </tr>\n    <tr>\n      <th>1</th>\n      <td>[1, 2, 4]</td>\n      <td>95.337931</td>\n    </tr>\n    <tr>\n      <th>2</th>\n      <td>[1, 2, 5]</td>\n      <td>91.452217</td>\n    </tr>\n    <tr>\n      <th>3</th>\n      <td>[1, 2, 6]</td>\n      <td>87.969458</td>\n    </tr>\n    <tr>\n      <th>4</th>\n      <td>[1, 2, 7]</td>\n      <td>92.494581</td>\n    </tr>\n    <tr>\n      <th>...</th>\n      <td>...</td>\n      <td>...</td>\n    </tr>\n    <tr>\n      <th>655</th>\n      <td>[11, 12, 6]</td>\n      <td>86.450246</td>\n    </tr>\n    <tr>\n      <th>656</th>\n      <td>[11, 12, 7]</td>\n      <td>95.503448</td>\n    </tr>\n    <tr>\n      <th>657</th>\n      <td>[11, 12, 8]</td>\n      <td>92.512315</td>\n    </tr>\n    <tr>\n      <th>658</th>\n      <td>[11, 12, 9]</td>\n      <td>86.511330</td>\n    </tr>\n    <tr>\n      <th>659</th>\n      <td>[11, 12, 10]</td>\n      <td>85.226601</td>\n    </tr>\n  </tbody>\n</table>\n<p>660 rows × 2 columns</p>\n</div>"
     },
     "metadata": {},
     "execution_count": 85
    }
   ],
   "source": [
    "haba_df = pd.DataFrame(find_phase_index_ratings(haba, 24))\n",
    "haba_df"
   ]
  },
  {
   "cell_type": "code",
   "execution_count": 86,
   "metadata": {
    "tags": []
   },
   "outputs": [
    {
     "output_type": "execute_result",
     "data": {
      "text/plain": "77.84630541871921"
     },
     "metadata": {},
     "execution_count": 86
    }
   ],
   "source": [
    "min(haba_df['rating'])"
   ]
  },
  {
   "cell_type": "code",
   "execution_count": 87,
   "metadata": {},
   "outputs": [
    {
     "output_type": "execute_result",
     "data": {
      "text/plain": "    components     rating\n312  [4, 6, 3]  77.846305",
      "text/html": "<div>\n<style scoped>\n    .dataframe tbody tr th:only-of-type {\n        vertical-align: middle;\n    }\n\n    .dataframe tbody tr th {\n        vertical-align: top;\n    }\n\n    .dataframe thead th {\n        text-align: right;\n    }\n</style>\n<table border=\"1\" class=\"dataframe\">\n  <thead>\n    <tr style=\"text-align: right;\">\n      <th></th>\n      <th>components</th>\n      <th>rating</th>\n    </tr>\n  </thead>\n  <tbody>\n    <tr>\n      <th>312</th>\n      <td>[4, 6, 3]</td>\n      <td>77.846305</td>\n    </tr>\n  </tbody>\n</table>\n</div>"
     },
     "metadata": {},
     "execution_count": 87
    }
   ],
   "source": [
    "haba_df.loc[haba_df['rating'] == min(haba_df['rating'])]"
   ]
  },
  {
   "cell_type": "code",
   "execution_count": 88,
   "metadata": {},
   "outputs": [
    {
     "output_type": "execute_result",
     "data": {
      "text/plain": "     components     rating\n18   [1, 3, 11]  79.579310\n218  [3, 4, 11]  79.578325\n312   [4, 6, 3]  77.846305\n404   [5, 8, 6]  79.389163\n410   [5, 9, 1]  79.983251\n520   [7, 9, 1]  79.506404",
      "text/html": "<div>\n<style scoped>\n    .dataframe tbody tr th:only-of-type {\n        vertical-align: middle;\n    }\n\n    .dataframe tbody tr th {\n        vertical-align: top;\n    }\n\n    .dataframe thead th {\n        text-align: right;\n    }\n</style>\n<table border=\"1\" class=\"dataframe\">\n  <thead>\n    <tr style=\"text-align: right;\">\n      <th></th>\n      <th>components</th>\n      <th>rating</th>\n    </tr>\n  </thead>\n  <tbody>\n    <tr>\n      <th>18</th>\n      <td>[1, 3, 11]</td>\n      <td>79.579310</td>\n    </tr>\n    <tr>\n      <th>218</th>\n      <td>[3, 4, 11]</td>\n      <td>79.578325</td>\n    </tr>\n    <tr>\n      <th>312</th>\n      <td>[4, 6, 3]</td>\n      <td>77.846305</td>\n    </tr>\n    <tr>\n      <th>404</th>\n      <td>[5, 8, 6]</td>\n      <td>79.389163</td>\n    </tr>\n    <tr>\n      <th>410</th>\n      <td>[5, 9, 1]</td>\n      <td>79.983251</td>\n    </tr>\n    <tr>\n      <th>520</th>\n      <td>[7, 9, 1]</td>\n      <td>79.506404</td>\n    </tr>\n  </tbody>\n</table>\n</div>"
     },
     "metadata": {},
     "execution_count": 88
    }
   ],
   "source": [
    "haba_df.loc[haba_df['rating'] < 80]"
   ]
  },
  {
   "cell_type": "code",
   "execution_count": null,
   "metadata": {},
   "outputs": [],
   "source": []
  }
 ]
}