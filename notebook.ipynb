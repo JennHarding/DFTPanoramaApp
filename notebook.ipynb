{
 "metadata": {
  "language_info": {
   "codemirror_mode": {
    "name": "ipython",
    "version": 3
   },
   "file_extension": ".py",
   "mimetype": "text/x-python",
   "name": "python",
   "nbconvert_exporter": "python",
   "pygments_lexer": "ipython3",
   "version": 3
  },
  "orig_nbformat": 2,
  "kernelspec": {
   "name": "python_defaultSpec_1595291803839",
   "display_name": "Python 3.8.2 64-bit ('.venv': venv)"
  }
 },
 "nbformat": 4,
 "nbformat_minor": 2,
 "cells": [
  {
   "cell_type": "markdown",
   "metadata": {},
   "source": [
    "_PRELIMINARIES_"
   ]
  },
  {
   "cell_type": "code",
   "execution_count": 1,
   "metadata": {},
   "outputs": [],
   "source": [
    "import pandas as pd"
   ]
  },
  {
   "cell_type": "markdown",
   "metadata": {},
   "source": [
    "_SET GLOBAL PARAMETERS_"
   ]
  },
  {
   "cell_type": "code",
   "execution_count": 2,
   "metadata": {},
   "outputs": [],
   "source": [
    "EDO = 12\n",
    "TITLE = 'Moz157_8beat_onset_mm40-52'\n",
    "UPPERLIMIT = EDO//2 + 1\n",
    "\n",
    "master_df = pd.read_csv(f'C:\\\\Users\\\\jennd\\\\Desktop\\\\Master_DFs\\\\{TITLE}_masterDF.csv')"
   ]
  },
  {
   "cell_type": "markdown",
   "metadata": {},
   "source": [
    "_FUNCTIONS_"
   ]
  },
  {
   "cell_type": "code",
   "execution_count": 3,
   "metadata": {},
   "outputs": [],
   "source": [
    "def fix_index(phaseIndex):\n",
    "    if abs(phaseIndex) <= 180:\n",
    "        return abs(phaseIndex)\n",
    "    else:\n",
    "        return abs(360 - abs(phaseIndex))"
   ]
  },
  {
   "cell_type": "code",
   "execution_count": 4,
   "metadata": {},
   "outputs": [],
   "source": [
    "def find_phase_index_ratings(df):\n",
    "    working_dict = {'components' : [], 'rating' : []}\n",
    "    for x in range(1, UPPERLIMIT):\n",
    "        for y in range(x+1, UPPERLIMIT):\n",
    "            for z in range(1, UPPERLIMIT):\n",
    "                if z != x and z != y:\n",
    "                    working_dict['components'].append(str([x, y, z]))\n",
    "                    phase_index_list = (abs(df[f'f{x} Phase'] + df[f'f{y} Phase'] - df[f'f{z} Phase'])).values.tolist()\n",
    "                    norm = [fix_index(a) for a in phase_index_list]\n",
    "                    working_dict['rating'].append(sum(norm) / len(norm))\n",
    "    phase_index_ratings_df = pd.DataFrame(working_dict)\n",
    "    return phase_index_ratings_df"
   ]
  },
  {
   "cell_type": "code",
   "execution_count": 5,
   "metadata": {},
   "outputs": [],
   "source": [
    "def extract_phases(df):\n",
    "    phase_key_list = [f'f{i} Phase' for i in range(1, UPPERLIMIT)]\n",
    "    phase_df = df[phase_key_list].copy()\n",
    "    new_column_names = {f'f{i} Phase' : f'f{i}' for i in range(1, UPPERLIMIT)}\n",
    "    phase_df.columns = [f'f{i}' for i in range(1, UPPERLIMIT)]\n",
    "    return phase_df"
   ]
  },
  {
   "cell_type": "code",
   "execution_count": 6,
   "metadata": {},
   "outputs": [],
   "source": [
    "def expand_phase_df(df):\n",
    "    for x in range(1, UPPERLIMIT):\n",
    "        for y in range(x+1, UPPERLIMIT):\n",
    "            df[f'f{x}+f{y}'] = df[f'f{x}'] + df[f'f{y}']\n",
    "    return df"
   ]
  },
  {
   "cell_type": "code",
   "execution_count": 7,
   "metadata": {},
   "outputs": [],
   "source": [
    "def save_correlations_csv(df):\n",
    "    df.to_csv(f'C:\\\\Users\\\\jennd\\\\Desktop\\\\ExpandedPhaseCorrelations\\\\{TITLE}.csv')"
   ]
  },
  {
   "cell_type": "markdown",
   "metadata": {},
   "source": [
    "_DO WORK_"
   ]
  },
  {
   "cell_type": "code",
   "execution_count": 8,
   "metadata": {},
   "outputs": [],
   "source": [
    "# master_df.head()"
   ]
  },
  {
   "cell_type": "code",
   "execution_count": 9,
   "metadata": {},
   "outputs": [],
   "source": [
    "phase_df = extract_phases(df=master_df)"
   ]
  },
  {
   "cell_type": "code",
   "execution_count": 10,
   "metadata": {},
   "outputs": [
    {
     "output_type": "execute_result",
     "data": {
      "text/plain": "   f1  f2   f3  f4  f5  f6\n0 -20 -29  113  13  83   0\n1   9 -22  100  19  83   0\n2 -10 -22   93  28  81   0\n3 -30 -30   89  14  76   0\n4 -19 -35   90  35  75   0",
      "text/html": "<div>\n<style scoped>\n    .dataframe tbody tr th:only-of-type {\n        vertical-align: middle;\n    }\n\n    .dataframe tbody tr th {\n        vertical-align: top;\n    }\n\n    .dataframe thead th {\n        text-align: right;\n    }\n</style>\n<table border=\"1\" class=\"dataframe\">\n  <thead>\n    <tr style=\"text-align: right;\">\n      <th></th>\n      <th>f1</th>\n      <th>f2</th>\n      <th>f3</th>\n      <th>f4</th>\n      <th>f5</th>\n      <th>f6</th>\n    </tr>\n  </thead>\n  <tbody>\n    <tr>\n      <th>0</th>\n      <td>-20</td>\n      <td>-29</td>\n      <td>113</td>\n      <td>13</td>\n      <td>83</td>\n      <td>0</td>\n    </tr>\n    <tr>\n      <th>1</th>\n      <td>9</td>\n      <td>-22</td>\n      <td>100</td>\n      <td>19</td>\n      <td>83</td>\n      <td>0</td>\n    </tr>\n    <tr>\n      <th>2</th>\n      <td>-10</td>\n      <td>-22</td>\n      <td>93</td>\n      <td>28</td>\n      <td>81</td>\n      <td>0</td>\n    </tr>\n    <tr>\n      <th>3</th>\n      <td>-30</td>\n      <td>-30</td>\n      <td>89</td>\n      <td>14</td>\n      <td>76</td>\n      <td>0</td>\n    </tr>\n    <tr>\n      <th>4</th>\n      <td>-19</td>\n      <td>-35</td>\n      <td>90</td>\n      <td>35</td>\n      <td>75</td>\n      <td>0</td>\n    </tr>\n  </tbody>\n</table>\n</div>"
     },
     "metadata": {},
     "execution_count": 10
    }
   ],
   "source": [
    "phase_df.head()"
   ]
  },
  {
   "cell_type": "code",
   "execution_count": 11,
   "metadata": {},
   "outputs": [],
   "source": [
    "expanded_phases_df = expand_phase_df(df=phase_df)"
   ]
  },
  {
   "cell_type": "code",
   "execution_count": 12,
   "metadata": {},
   "outputs": [
    {
     "output_type": "execute_result",
     "data": {
      "text/plain": "   f1  f2   f3  f4  f5  f6  f1+f2  f1+f3  f1+f4  f1+f5  ...  f2+f3  f2+f4  \\\n0 -20 -29  113  13  83   0    -49     93     -7     63  ...     84    -16   \n1   9 -22  100  19  83   0    -13    109     28     92  ...     78     -3   \n2 -10 -22   93  28  81   0    -32     83     18     71  ...     71      6   \n3 -30 -30   89  14  76   0    -60     59    -16     46  ...     59    -16   \n4 -19 -35   90  35  75   0    -54     71     16     56  ...     55      0   \n\n   f2+f5  f2+f6  f3+f4  f3+f5  f3+f6  f4+f5  f4+f6  f5+f6  \n0     54    -29    126    196    113     96     13     83  \n1     61    -22    119    183    100    102     19     83  \n2     59    -22    121    174     93    109     28     81  \n3     46    -30    103    165     89     90     14     76  \n4     40    -35    125    165     90    110     35     75  \n\n[5 rows x 21 columns]",
      "text/html": "<div>\n<style scoped>\n    .dataframe tbody tr th:only-of-type {\n        vertical-align: middle;\n    }\n\n    .dataframe tbody tr th {\n        vertical-align: top;\n    }\n\n    .dataframe thead th {\n        text-align: right;\n    }\n</style>\n<table border=\"1\" class=\"dataframe\">\n  <thead>\n    <tr style=\"text-align: right;\">\n      <th></th>\n      <th>f1</th>\n      <th>f2</th>\n      <th>f3</th>\n      <th>f4</th>\n      <th>f5</th>\n      <th>f6</th>\n      <th>f1+f2</th>\n      <th>f1+f3</th>\n      <th>f1+f4</th>\n      <th>f1+f5</th>\n      <th>...</th>\n      <th>f2+f3</th>\n      <th>f2+f4</th>\n      <th>f2+f5</th>\n      <th>f2+f6</th>\n      <th>f3+f4</th>\n      <th>f3+f5</th>\n      <th>f3+f6</th>\n      <th>f4+f5</th>\n      <th>f4+f6</th>\n      <th>f5+f6</th>\n    </tr>\n  </thead>\n  <tbody>\n    <tr>\n      <th>0</th>\n      <td>-20</td>\n      <td>-29</td>\n      <td>113</td>\n      <td>13</td>\n      <td>83</td>\n      <td>0</td>\n      <td>-49</td>\n      <td>93</td>\n      <td>-7</td>\n      <td>63</td>\n      <td>...</td>\n      <td>84</td>\n      <td>-16</td>\n      <td>54</td>\n      <td>-29</td>\n      <td>126</td>\n      <td>196</td>\n      <td>113</td>\n      <td>96</td>\n      <td>13</td>\n      <td>83</td>\n    </tr>\n    <tr>\n      <th>1</th>\n      <td>9</td>\n      <td>-22</td>\n      <td>100</td>\n      <td>19</td>\n      <td>83</td>\n      <td>0</td>\n      <td>-13</td>\n      <td>109</td>\n      <td>28</td>\n      <td>92</td>\n      <td>...</td>\n      <td>78</td>\n      <td>-3</td>\n      <td>61</td>\n      <td>-22</td>\n      <td>119</td>\n      <td>183</td>\n      <td>100</td>\n      <td>102</td>\n      <td>19</td>\n      <td>83</td>\n    </tr>\n    <tr>\n      <th>2</th>\n      <td>-10</td>\n      <td>-22</td>\n      <td>93</td>\n      <td>28</td>\n      <td>81</td>\n      <td>0</td>\n      <td>-32</td>\n      <td>83</td>\n      <td>18</td>\n      <td>71</td>\n      <td>...</td>\n      <td>71</td>\n      <td>6</td>\n      <td>59</td>\n      <td>-22</td>\n      <td>121</td>\n      <td>174</td>\n      <td>93</td>\n      <td>109</td>\n      <td>28</td>\n      <td>81</td>\n    </tr>\n    <tr>\n      <th>3</th>\n      <td>-30</td>\n      <td>-30</td>\n      <td>89</td>\n      <td>14</td>\n      <td>76</td>\n      <td>0</td>\n      <td>-60</td>\n      <td>59</td>\n      <td>-16</td>\n      <td>46</td>\n      <td>...</td>\n      <td>59</td>\n      <td>-16</td>\n      <td>46</td>\n      <td>-30</td>\n      <td>103</td>\n      <td>165</td>\n      <td>89</td>\n      <td>90</td>\n      <td>14</td>\n      <td>76</td>\n    </tr>\n    <tr>\n      <th>4</th>\n      <td>-19</td>\n      <td>-35</td>\n      <td>90</td>\n      <td>35</td>\n      <td>75</td>\n      <td>0</td>\n      <td>-54</td>\n      <td>71</td>\n      <td>16</td>\n      <td>56</td>\n      <td>...</td>\n      <td>55</td>\n      <td>0</td>\n      <td>40</td>\n      <td>-35</td>\n      <td>125</td>\n      <td>165</td>\n      <td>90</td>\n      <td>110</td>\n      <td>35</td>\n      <td>75</td>\n    </tr>\n  </tbody>\n</table>\n<p>5 rows × 21 columns</p>\n</div>"
     },
     "metadata": {},
     "execution_count": 12
    }
   ],
   "source": [
    "expanded_phases_df.head()"
   ]
  },
  {
   "cell_type": "code",
   "execution_count": 13,
   "metadata": {},
   "outputs": [],
   "source": [
    "correlated_df = expanded_phases_df.corr()"
   ]
  },
  {
   "cell_type": "code",
   "execution_count": 14,
   "metadata": {},
   "outputs": [
    {
     "output_type": "execute_result",
     "data": {
      "text/plain": "          f1        f2        f3        f4        f5        f6     f1+f2  \\\nf1  1.000000  0.277540  0.012509  0.023594  0.335509  0.882838  0.955038   \nf2  0.277540  1.000000 -0.798433 -0.688666  0.629646  0.411806  0.549896   \nf3  0.012509 -0.798433  1.000000  0.623278 -0.348758 -0.188787 -0.235527   \nf4  0.023594 -0.688666  0.623278  1.000000 -0.698155 -0.039188 -0.192014   \nf5  0.335509  0.629646 -0.348758 -0.698155  1.000000  0.317172  0.486000   \n\n       f1+f3     f1+f4     f1+f5  ...     f2+f3     f2+f4     f2+f5     f2+f6  \\\nf1  0.941085  0.826192  0.995358  ...  0.453169  0.222039  0.312121  0.869570   \nf2 -0.010012 -0.162484  0.331067  ...  0.293556 -0.236683  0.981375  0.498010   \nf3  0.349915  0.361414 -0.023610  ...  0.341172  0.287362 -0.745489 -0.264390   \nf4  0.232894  0.582725 -0.048653  ... -0.085585  0.867473 -0.741253 -0.110381   \nf5  0.196374 -0.120708  0.424618  ...  0.429301 -0.503502  0.767159  0.368649   \n\n       f3+f4     f3+f5     f3+f6     f4+f5     f4+f6     f5+f6  \nf1  0.021727  0.118569  0.897808  0.083411  0.874791  0.884238  \nf2 -0.796997 -0.652987  0.326170 -0.658149  0.257915  0.428090  \nf3  0.825554  0.955808 -0.076520  0.633344 -0.052238 -0.198237  \nf4  0.955851  0.444920  0.031989  0.992527  0.175978 -0.061821  \nf5 -0.634870 -0.057815  0.281870 -0.605571  0.162650  0.346728  \n\n[5 rows x 21 columns]",
      "text/html": "<div>\n<style scoped>\n    .dataframe tbody tr th:only-of-type {\n        vertical-align: middle;\n    }\n\n    .dataframe tbody tr th {\n        vertical-align: top;\n    }\n\n    .dataframe thead th {\n        text-align: right;\n    }\n</style>\n<table border=\"1\" class=\"dataframe\">\n  <thead>\n    <tr style=\"text-align: right;\">\n      <th></th>\n      <th>f1</th>\n      <th>f2</th>\n      <th>f3</th>\n      <th>f4</th>\n      <th>f5</th>\n      <th>f6</th>\n      <th>f1+f2</th>\n      <th>f1+f3</th>\n      <th>f1+f4</th>\n      <th>f1+f5</th>\n      <th>...</th>\n      <th>f2+f3</th>\n      <th>f2+f4</th>\n      <th>f2+f5</th>\n      <th>f2+f6</th>\n      <th>f3+f4</th>\n      <th>f3+f5</th>\n      <th>f3+f6</th>\n      <th>f4+f5</th>\n      <th>f4+f6</th>\n      <th>f5+f6</th>\n    </tr>\n  </thead>\n  <tbody>\n    <tr>\n      <th>f1</th>\n      <td>1.000000</td>\n      <td>0.277540</td>\n      <td>0.012509</td>\n      <td>0.023594</td>\n      <td>0.335509</td>\n      <td>0.882838</td>\n      <td>0.955038</td>\n      <td>0.941085</td>\n      <td>0.826192</td>\n      <td>0.995358</td>\n      <td>...</td>\n      <td>0.453169</td>\n      <td>0.222039</td>\n      <td>0.312121</td>\n      <td>0.869570</td>\n      <td>0.021727</td>\n      <td>0.118569</td>\n      <td>0.897808</td>\n      <td>0.083411</td>\n      <td>0.874791</td>\n      <td>0.884238</td>\n    </tr>\n    <tr>\n      <th>f2</th>\n      <td>0.277540</td>\n      <td>1.000000</td>\n      <td>-0.798433</td>\n      <td>-0.688666</td>\n      <td>0.629646</td>\n      <td>0.411806</td>\n      <td>0.549896</td>\n      <td>-0.010012</td>\n      <td>-0.162484</td>\n      <td>0.331067</td>\n      <td>...</td>\n      <td>0.293556</td>\n      <td>-0.236683</td>\n      <td>0.981375</td>\n      <td>0.498010</td>\n      <td>-0.796997</td>\n      <td>-0.652987</td>\n      <td>0.326170</td>\n      <td>-0.658149</td>\n      <td>0.257915</td>\n      <td>0.428090</td>\n    </tr>\n    <tr>\n      <th>f3</th>\n      <td>0.012509</td>\n      <td>-0.798433</td>\n      <td>1.000000</td>\n      <td>0.623278</td>\n      <td>-0.348758</td>\n      <td>-0.188787</td>\n      <td>-0.235527</td>\n      <td>0.349915</td>\n      <td>0.361414</td>\n      <td>-0.023610</td>\n      <td>...</td>\n      <td>0.341172</td>\n      <td>0.287362</td>\n      <td>-0.745489</td>\n      <td>-0.264390</td>\n      <td>0.825554</td>\n      <td>0.955808</td>\n      <td>-0.076520</td>\n      <td>0.633344</td>\n      <td>-0.052238</td>\n      <td>-0.198237</td>\n    </tr>\n    <tr>\n      <th>f4</th>\n      <td>0.023594</td>\n      <td>-0.688666</td>\n      <td>0.623278</td>\n      <td>1.000000</td>\n      <td>-0.698155</td>\n      <td>-0.039188</td>\n      <td>-0.192014</td>\n      <td>0.232894</td>\n      <td>0.582725</td>\n      <td>-0.048653</td>\n      <td>...</td>\n      <td>-0.085585</td>\n      <td>0.867473</td>\n      <td>-0.741253</td>\n      <td>-0.110381</td>\n      <td>0.955851</td>\n      <td>0.444920</td>\n      <td>0.031989</td>\n      <td>0.992527</td>\n      <td>0.175978</td>\n      <td>-0.061821</td>\n    </tr>\n    <tr>\n      <th>f5</th>\n      <td>0.335509</td>\n      <td>0.629646</td>\n      <td>-0.348758</td>\n      <td>-0.698155</td>\n      <td>1.000000</td>\n      <td>0.317172</td>\n      <td>0.486000</td>\n      <td>0.196374</td>\n      <td>-0.120708</td>\n      <td>0.424618</td>\n      <td>...</td>\n      <td>0.429301</td>\n      <td>-0.503502</td>\n      <td>0.767159</td>\n      <td>0.368649</td>\n      <td>-0.634870</td>\n      <td>-0.057815</td>\n      <td>0.281870</td>\n      <td>-0.605571</td>\n      <td>0.162650</td>\n      <td>0.346728</td>\n    </tr>\n  </tbody>\n</table>\n<p>5 rows × 21 columns</p>\n</div>"
     },
     "metadata": {},
     "execution_count": 14
    }
   ],
   "source": [
    "correlated_df.head()"
   ]
  },
  {
   "cell_type": "code",
   "execution_count": 15,
   "metadata": {},
   "outputs": [],
   "source": [
    "# save_correlations_csv(df=correlated_df)"
   ]
  },
  {
   "cell_type": "code",
   "execution_count": 16,
   "metadata": {},
   "outputs": [
    {
     "output_type": "execute_result",
     "data": {
      "text/plain": "0.2775396910565073"
     },
     "metadata": {},
     "execution_count": 16
    }
   ],
   "source": [
    "phase_df['f1'].corr(phase_df['f2'])"
   ]
  },
  {
   "cell_type": "code",
   "execution_count": null,
   "metadata": {},
   "outputs": [],
   "source": []
  },
  {
   "cell_type": "code",
   "execution_count": null,
   "metadata": {},
   "outputs": [],
   "source": []
  },
  {
   "cell_type": "code",
   "execution_count": null,
   "metadata": {
    "tags": []
   },
   "outputs": [],
   "source": [
    "min(haba_df['rating'])"
   ]
  },
  {
   "cell_type": "code",
   "execution_count": null,
   "metadata": {},
   "outputs": [],
   "source": [
    "haba_df.loc[haba_df['rating'] == min(haba_df['rating'])]"
   ]
  },
  {
   "cell_type": "code",
   "execution_count": null,
   "metadata": {},
   "outputs": [],
   "source": [
    "haba_df.loc[haba_df['rating'] < 80]"
   ]
  },
  {
   "cell_type": "code",
   "execution_count": null,
   "metadata": {},
   "outputs": [],
   "source": []
  },
  {
   "cell_type": "code",
   "execution_count": null,
   "metadata": {},
   "outputs": [],
   "source": []
  },
  {
   "cell_type": "code",
   "execution_count": null,
   "metadata": {},
   "outputs": [],
   "source": []
  },
  {
   "cell_type": "code",
   "execution_count": null,
   "metadata": {},
   "outputs": [],
   "source": []
  }
 ]
}